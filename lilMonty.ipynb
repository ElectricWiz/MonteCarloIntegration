{
 "cells": [
  {
   "cell_type": "code",
   "execution_count": 8,
   "id": "c63c46e1-3ae4-4a21-ac43-4444dc1cb949",
   "metadata": {},
   "outputs": [],
   "source": [
    "import numpy as np"
   ]
  },
  {
   "cell_type": "code",
   "execution_count": 9,
   "id": "a62f7ac2-cc23-4b9b-8161-a8aba41c931e",
   "metadata": {},
   "outputs": [],
   "source": [
    "def mont1(f, inter, n=10000000):\n",
    "    summ = 0\n",
    "    delta = inter[1] - inter[0]\n",
    "    \n",
    "    for num in np.random.rand(n)*delta:\n",
    "        summ += f(num)\n",
    "    \n",
    "    return delta*(summ/n)"
   ]
  },
  {
   "cell_type": "code",
   "execution_count": 10,
   "id": "4fca225b-5f5b-4cd1-8017-52ecae2988ed",
   "metadata": {},
   "outputs": [],
   "source": [
    "f = lambda x: 2*x"
   ]
  },
  {
   "cell_type": "code",
   "execution_count": 11,
   "id": "fc6ccf15-4f8e-4eec-8525-5ad96d806534",
   "metadata": {},
   "outputs": [
    {
     "data": {
      "text/plain": [
       "4.00101909638564"
      ]
     },
     "execution_count": 11,
     "metadata": {},
     "output_type": "execute_result"
    }
   ],
   "source": [
    "mont1(f, (0,2))"
   ]
  },
  {
   "cell_type": "code",
   "execution_count": null,
   "id": "c0aeafdd-b677-4a73-845e-8034d74d326e",
   "metadata": {},
   "outputs": [],
   "source": []
  }
 ],
 "metadata": {
  "kernelspec": {
   "display_name": "Python 3 (ipykernel)",
   "language": "python",
   "name": "python3"
  },
  "language_info": {
   "codemirror_mode": {
    "name": "ipython",
    "version": 3
   },
   "file_extension": ".py",
   "mimetype": "text/x-python",
   "name": "python",
   "nbconvert_exporter": "python",
   "pygments_lexer": "ipython3",
   "version": "3.9.12"
  }
 },
 "nbformat": 4,
 "nbformat_minor": 5
}
