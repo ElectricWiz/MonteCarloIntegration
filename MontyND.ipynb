{
 "cells": [
  {
   "cell_type": "code",
   "execution_count": 44,
   "id": "90c4ed19-3e47-4ef0-90a1-27eca1a0b191",
   "metadata": {},
   "outputs": [],
   "source": [
    "import numpy as np\n",
    "import math"
   ]
  },
  {
   "cell_type": "code",
   "execution_count": 45,
   "id": "2086f482-9b22-424a-b160-50a291b5f257",
   "metadata": {},
   "outputs": [],
   "source": [
    "def mont2(f, nPrism, n=1000000):\n",
    "    summ = 0\n",
    "    vol = 0\n",
    "    deltota = 0\n",
    "    \n",
    "    for inter in nPrism:\n",
    "        delta = inter[1] - inter[0]\n",
    "        if vol == 0:\n",
    "            vol = delta\n",
    "        else:\n",
    "            vol *= delta\n",
    "            \n",
    "    if deltota < delta:\n",
    "            deltota = delta\n",
    "    \n",
    "    for nums in np.random.rand(n, len(nPrism))*deltota:\n",
    "        summ += f([j for j in nums])\n",
    "    \n",
    "    return vol*(summ/n), summ/n"
   ]
  },
  {
   "cell_type": "code",
   "execution_count": 46,
   "id": "f8935486-e4ee-4c19-b2c5-080c76c3f858",
   "metadata": {},
   "outputs": [],
   "source": [
    "f = lambda A: sum(A)"
   ]
  },
  {
   "cell_type": "code",
   "execution_count": 49,
   "id": "5e3211af-104d-4c16-82c7-9b7b842917fd",
   "metadata": {},
   "outputs": [
    {
     "data": {
      "text/plain": [
       "(4.4996348918643925, 4.4996348918643925)"
      ]
     },
     "execution_count": 49,
     "metadata": {},
     "output_type": "execute_result"
    }
   ],
   "source": [
    "mont2(f, [(0,1), (0,1), (0,1), (0,1), (0,1), (0,1), (0,1), (0,1), (0,1)])"
   ]
  },
  {
   "cell_type": "code",
   "execution_count": 48,
   "id": "1361a9e7-b16b-455c-aa0c-7fe19ae92806",
   "metadata": {},
   "outputs": [
    {
     "data": {
      "text/plain": [
       "array([[0.25406208, 0.92385934, 0.4865853 ],\n",
       "       [0.67224643, 0.54959134, 0.19680535],\n",
       "       [0.63924774, 0.32261359, 0.36772622],\n",
       "       [0.63928365, 0.54859162, 0.65753279],\n",
       "       [0.20284992, 0.89011418, 0.35178554]])"
      ]
     },
     "execution_count": 48,
     "metadata": {},
     "output_type": "execute_result"
    }
   ],
   "source": [
    "np.random.rand(5, 3)"
   ]
  },
  {
   "cell_type": "code",
   "execution_count": null,
   "id": "d70e7fd8-73c6-4d59-a0a2-1c1a9e54dd8a",
   "metadata": {},
   "outputs": [],
   "source": []
  }
 ],
 "metadata": {
  "kernelspec": {
   "display_name": "Python 3 (ipykernel)",
   "language": "python",
   "name": "python3"
  },
  "language_info": {
   "codemirror_mode": {
    "name": "ipython",
    "version": 3
   },
   "file_extension": ".py",
   "mimetype": "text/x-python",
   "name": "python",
   "nbconvert_exporter": "python",
   "pygments_lexer": "ipython3",
   "version": "3.9.12"
  }
 },
 "nbformat": 4,
 "nbformat_minor": 5
}
