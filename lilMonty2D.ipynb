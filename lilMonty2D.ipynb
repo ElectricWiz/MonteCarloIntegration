{
 "cells": [
  {
   "cell_type": "code",
   "execution_count": 22,
   "id": "90c4ed19-3e47-4ef0-90a1-27eca1a0b191",
   "metadata": {},
   "outputs": [],
   "source": [
    "import numpy as np\n",
    "import math"
   ]
  },
  {
   "cell_type": "code",
   "execution_count": 23,
   "id": "2086f482-9b22-424a-b160-50a291b5f257",
   "metadata": {},
   "outputs": [],
   "source": [
    "def mont2(f, square, n=1000000):\n",
    "    summ = 0\n",
    "    vol = 0\n",
    "    deltota = 0\n",
    "    \n",
    "    for inter in square:\n",
    "        delta = inter[1] - inter[0]\n",
    "        if vol == 0:\n",
    "            vol = delta\n",
    "        else:\n",
    "            vol *= delta\n",
    "            \n",
    "    if deltota < delta:\n",
    "            deltota = delta\n",
    "    \n",
    "    for nums in np.random.rand(n, 2)*deltota:\n",
    "        summ += f(nums[0], nums[1])\n",
    "    \n",
    "    return vol*(summ/n)"
   ]
  },
  {
   "cell_type": "code",
   "execution_count": 24,
   "id": "f8935486-e4ee-4c19-b2c5-080c76c3f858",
   "metadata": {},
   "outputs": [],
   "source": [
    "f = lambda x,y: x**2 + y"
   ]
  },
  {
   "cell_type": "code",
   "execution_count": 25,
   "id": "5e3211af-104d-4c16-82c7-9b7b842917fd",
   "metadata": {},
   "outputs": [
    {
     "data": {
      "text/plain": [
       "0.8332271904936204"
      ]
     },
     "execution_count": 25,
     "metadata": {},
     "output_type": "execute_result"
    }
   ],
   "source": [
    "mont2(f, [(0,1), (0,1)])"
   ]
  },
  {
   "cell_type": "code",
   "execution_count": null,
   "id": "1361a9e7-b16b-455c-aa0c-7fe19ae92806",
   "metadata": {},
   "outputs": [],
   "source": []
  }
 ],
 "metadata": {
  "kernelspec": {
   "display_name": "Python 3 (ipykernel)",
   "language": "python",
   "name": "python3"
  },
  "language_info": {
   "codemirror_mode": {
    "name": "ipython",
    "version": 3
   },
   "file_extension": ".py",
   "mimetype": "text/x-python",
   "name": "python",
   "nbconvert_exporter": "python",
   "pygments_lexer": "ipython3",
   "version": "3.9.12"
  }
 },
 "nbformat": 4,
 "nbformat_minor": 5
}
